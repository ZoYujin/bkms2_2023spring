{
 "cells": [
  {
   "cell_type": "code",
   "execution_count": 1,
   "metadata": {},
   "outputs": [
    {
     "name": "stdout",
     "output_type": "stream",
     "text": [
      "4.3.3\n"
     ]
    }
   ],
   "source": [
    "import pymongo\n",
    "import pprint\n",
    "from pymongo import MongoClient\n",
    "print(pymongo.__version__)"
   ]
  },
  {
   "attachments": {},
   "cell_type": "markdown",
   "metadata": {},
   "source": [
    "https://pymongo.readthedocs.io/en/stable/tutorial.html"
   ]
  },
  {
   "cell_type": "code",
   "execution_count": 2,
   "metadata": {},
   "outputs": [
    {
     "name": "stdout",
     "output_type": "stream",
     "text": [
      "{'version': '6.0.4', 'gitVersion': '44ff59461c1353638a71e710f385a566bcd2f547', 'modules': [], 'allocator': 'tcmalloc', 'javascriptEngine': 'mozjs', 'sysInfo': 'deprecated', 'versionArray': [6, 0, 4, 0], 'openssl': {'running': 'OpenSSL 3.0.2 15 Mar 2022', 'compiled': 'OpenSSL 3.0.2 15 Mar 2022'}, 'buildEnvironment': {'distmod': 'ubuntu2204', 'distarch': 'x86_64', 'cc': '/opt/mongodbtoolchain/v3/bin/gcc: gcc (GCC) 8.5.0', 'ccflags': '-Werror -include mongo/platform/basic.h -ffp-contract=off -fasynchronous-unwind-tables -ggdb -Wall -Wsign-compare -Wno-unknown-pragmas -Winvalid-pch -fno-omit-frame-pointer -fno-strict-aliasing -O2 -march=sandybridge -mtune=generic -mprefer-vector-width=128 -Wno-unused-local-typedefs -Wno-unused-function -Wno-deprecated-declarations -Wno-unused-const-variable -Wno-unused-but-set-variable -Wno-missing-braces -fstack-protector-strong -fdebug-types-section -Wa,--nocompress-debug-sections -fno-builtin-memcmp', 'cxx': '/opt/mongodbtoolchain/v3/bin/g++: g++ (GCC) 8.5.0', 'cxxflags': '-Woverloaded-virtual -Wno-maybe-uninitialized -fsized-deallocation -std=c++17', 'linkflags': '-Wl,--fatal-warnings -pthread -Wl,-z,now -fuse-ld=gold -fstack-protector-strong -fdebug-types-section -Wl,--no-threads -Wl,--build-id -Wl,--hash-style=gnu -Wl,-z,noexecstack -Wl,--warn-execstack -Wl,-z,relro -Wl,--compress-debug-sections=none -Wl,-z,origin -Wl,--enable-new-dtags', 'target_arch': 'x86_64', 'target_os': 'linux', 'cppdefines': 'SAFEINT_USE_INTRINSICS 0 PCRE_STATIC NDEBUG _XOPEN_SOURCE 700 _GNU_SOURCE _FORTIFY_SOURCE 2 BOOST_THREAD_VERSION 5 BOOST_THREAD_USES_DATETIME BOOST_SYSTEM_NO_DEPRECATED BOOST_MATH_NO_LONG_DOUBLE_MATH_FUNCTIONS BOOST_ENABLE_ASSERT_DEBUG_HANDLER BOOST_LOG_NO_SHORTHAND_NAMES BOOST_LOG_USE_NATIVE_SYSLOG BOOST_LOG_WITHOUT_THREAD_ATTR ABSL_FORCE_ALIGNED_ACCESS'}, 'bits': 64, 'debug': False, 'maxBsonObjectSize': 16777216, 'storageEngines': ['devnull', 'ephemeralForTest', 'wiredTiger'], 'ok': 1.0}\n",
      "['admin', 'analytics', 'config', 'local', 'mydb', 'new_db']\n"
     ]
    }
   ],
   "source": [
    "client = MongoClient(host='localhost', port=27017)\n",
    "# or use uri format\n",
    "# client = MongoClient('mongodb://localhost:27017/')\n",
    "try:\n",
    "    print(client.server_info())\n",
    "except Exception:\n",
    "    print(\"Unable to connect to the server.\")\n",
    "# show current database names\n",
    "print(client.list_database_names())"
   ]
  },
  {
   "cell_type": "code",
   "execution_count": 4,
   "metadata": {},
   "outputs": [
    {
     "name": "stdout",
     "output_type": "stream",
     "text": [
      "Collection names: []\n",
      "Collection names: ['test']\n",
      "Collection names: []\n"
     ]
    }
   ],
   "source": [
    "# Select database\n",
    "db = client['new_db']  # or `db = client.new_db`\n",
    "\n",
    "# Show current collection names\n",
    "print('Collection names:', db.list_collection_names())\n",
    "\n",
    "# Insert a document into the collection\n",
    "db.test.insert_one({'name': 'test', 'age': 20})\n",
    "\n",
    "# Check the collection names again\n",
    "print('Collection names:', db.list_collection_names()) \n",
    "\n",
    "# Drop collections\n",
    "db.test.drop()\n",
    "\n",
    "# Check the collection names again\n",
    "print('Collection names:', db.list_collection_names())"
   ]
  },
  {
   "cell_type": "code",
   "execution_count": 5,
   "metadata": {},
   "outputs": [
    {
     "name": "stdout",
     "output_type": "stream",
     "text": [
      "{'name': 'joe'}\n",
      "{'name': 'amy'}\n"
     ]
    }
   ],
   "source": [
    "# Let's insert a few more documents\n",
    "db.test.insert_many([\n",
    "    {'name': 'joe', 'age': 21},\n",
    "    {'name': 'sam', 'age': 20},\n",
    "    {'name': 'john', 'age': 19},\n",
    "    {'name': 'amy', 'age': 23}\n",
    "])\n",
    "\n",
    "# Filter the documents by age > 20 and project the name field\n",
    "for res in db.test.find(filter={'age': {'$gt': 20}}, projection={'_id': 0, 'name': 1}):\n",
    "    pprint.pprint(res)"
   ]
  },
  {
   "attachments": {},
   "cell_type": "markdown",
   "metadata": {},
   "source": [
    "# Sample Analytics Dataset \n",
    "\n",
    "- https://www.mongodb.com/docs/atlas/sample-data/sample-analytics/\n",
    "- https://github.com/mcampo2/mongodb-sample-databases/tree/master/sample_analytics\n",
    "\n",
    "| Collection Name | Description\n",
    "|---|---\n",
    "| accounts | Contains details on customer accounts.\n",
    "| customers | Contains details on customers.\n",
    "| transactions | Contains customer transactions.\n",
    "\n",
    "A single customer can have multiple accounts, transaction refer `account_id`\n",
    "\n",
    "## Schema Information with example(BSON)\n",
    "\n",
    "### `accounts` sample data\n",
    "\n",
    "``` json\n",
    "{\n",
    "    \"_id\": {\"$oid\": \"5ca4bbc7a2dd94ee5816238c\" },  // ObjectID\n",
    "    \"account_id\": { \"$numberInt\": \"371138\" },  // Integer\n",
    "    \"limit\": { \"$numberInt\": \"9000\" },  // Integer\n",
    "    \"products\": [ \"Derivatives\", \"InvestmentStock\"]  // Array\n",
    "}\n",
    "```\n",
    "\n",
    "### `customers` sample data\n",
    "\n",
    "``` json\n",
    "{\n",
    "    \"_id\": { \"$oid\": \"5ca4bbcea2dd94ee58162a68\" },  // ObjectID\n",
    "    \"username\": \"fmiller\",  // String\n",
    "    \"name\": \"Elizabeth Ray\",  // String\n",
    "    \"address\": \"9286 Bethany Glens\\nVasqueztown, CO 22939\",  // String\n",
    "    \"birthdate\":{ \"$date\": { \"$numberLong\": \"226117231000\" } },  // Embedded Document\n",
    "    \"email\": \"arroyocolton@gmail.com\",  // String\n",
    "    \"active\": true,  // Boolean\n",
    "    \"accounts\":[\n",
    "        {\"$numberInt\":\"371138\"}, {\"$numberInt\":\"324287\"}, {\"$numberInt\":\"276528\"}, \n",
    "        {\"$numberInt\":\"332179\"}, {\"$numberInt\":\"422649\"}, {\"$numberInt\":\"387979\"}\n",
    "    ], // Array\n",
    "    \"tier_and_details\": {\n",
    "        \"0df078f33aa74a2e9696e0520c1a828a\": { \n",
    "            \"tier\":\"Bronze\", \n",
    "            \"id\":\"0df078f33aa74a2e9696e0520c1a828a\",\n",
    "            \"active\":true,\n",
    "            \"benefits\": [\"sports tickets\"]\n",
    "        },\n",
    "        \"699456451cc24f028d2aa99d7534c219\": {\n",
    "            \"tier\":\"Bronze\",\n",
    "            \"benefits\": [\"24 hour dedicated line\", \"concierge services\"],\n",
    "            \"active\":true, \"id\":\"699456451cc24f028d2aa99d7534c219\"\n",
    "        }\n",
    "    }\n",
    "}\n",
    "```\n",
    "\n",
    "### `transactions` sample data\n",
    "\n",
    "``` json\n",
    "{\n",
    "    \"_id\": { \"$oid\": \"5ca4bbc1a2dd94ee58161cb1\" },  // ObjectID\n",
    "    \"account_id\": { \"$numberInt\": \"443178\" },  // Integer\n",
    "    \"transaction_count\": { \"$numberInt\": \"66\" },  // Integer\n",
    "    \"bucket_start_date\": { \"$date\": { \"$numberLong\": \"-28598400000\" } },  // Date\n",
    "    \"bucket_end_date\": { \"$date\": { \"$numberLong\": \"1483401600000\" } },  // Date\n",
    "    \"transactions\": [\n",
    "        {\n",
    "            \"date\": { \"$date\": { \"$numberLong\": \"1063065600000\" } },  // Date\n",
    "            \"amount\": { \"$numberInt\": \"7514\" },  // Integer\n",
    "            \"transaction_code\": \"buy\",  // String\n",
    "            \"symbol\": \"adbe\",  // String\n",
    "            \"price\": \"19.1072802650074180519368383102118968963623046875\",  // Float\n",
    "            \"total\": \"143572.1039112657392422534031\"  // Float\n",
    "        },  \n",
    "        // ...\n",
    "        {\n",
    "            \"date\": { \"$date\": { \"$numberLong\": \"1120694400000\" } },\n",
    "            \"amount\": { \"$numberInt\": \"2881\" },\n",
    "            \"transaction_code\":\"buy\",\n",
    "            \"symbol\": \"msft\",\n",
    "            \"price\": \"20.6769287918292690164889791049063205718994140625\",\n",
    "            \"total\": \"59570.23184926012403650474880\"\n",
    "        }\n",
    "    ]\n",
    "}\n",
    "\n",
    "```"
   ]
  },
  {
   "cell_type": "code",
   "execution_count": 7,
   "metadata": {},
   "outputs": [],
   "source": [
    "from pathlib import Path\n",
    "import json\n",
    "from bson import json_util\n",
    "\n",
    "data_path = Path('./datasets/sample_analytics/')\n",
    "db = client['analytics']  # select database"
   ]
  },
  {
   "cell_type": "code",
   "execution_count": 8,
   "metadata": {},
   "outputs": [],
   "source": [
    "def jsonl_to_bson(path):\n",
    "    with open(path) as file:\n",
    "        data = [json.loads(x, object_hook=json_util.object_hook) for x in file.readlines()]\n",
    "    return data\n",
    "\n",
    "for file_name in ['accounts.json', 'customers.json', 'transactions.json']:\n",
    "    collection_name = file_name.split('.')[0]\n",
    "    collection = db[collection_name]  # select collection\n",
    "    collection.insert_many(jsonl_to_bson(data_path / file_name))"
   ]
  },
  {
   "cell_type": "code",
   "execution_count": 26,
   "metadata": {},
   "outputs": [
    {
     "name": "stdout",
     "output_type": "stream",
     "text": [
      "['customers', 'accounts', 'transactions']\n",
      "{'accounts': [371138, 324287, 276528, 332179, 422649, 387979],\n",
      " 'active': True,\n",
      " 'name': 'Elizabeth Ray',\n",
      " 'username': 'fmiller'}\n"
     ]
    }
   ],
   "source": [
    "# print out the collection names\n",
    "pprint.pprint(db.list_collection_names())\n",
    "\n",
    "# search user 'fmiller' in the accounts collection\n",
    "res = db.customers.find(\n",
    "    filter={'username': 'fmiller'}, \n",
    "    projection={'_id': 0, 'username': 1, 'active': 1, 'name': 1, 'accounts': 1}\n",
    ")\n",
    "for doc in res:\n",
    "    pprint.pprint(doc)"
   ]
  },
  {
   "attachments": {},
   "cell_type": "markdown",
   "metadata": {},
   "source": [
    "* Lookup: https://www.mongodb.com/docs/manual/reference/operator/aggregation/lookup/\n",
    "* Reduce: https://www.mongodb.com/docs/manual/reference/operator/aggregation/reduce/\n",
    "* Set Union: https://www.mongodb.com/docs/manual/reference/operator/aggregation/setUnion/"
   ]
  },
  {
   "cell_type": "code",
   "execution_count": 77,
   "metadata": {},
   "outputs": [
    {
     "name": "stdout",
     "output_type": "stream",
     "text": [
      "{'name': 'Elizabeth Ray',\n",
      " 'products_type': ['Brokerage',\n",
      "                   'Commodity',\n",
      "                   'CurrencyService',\n",
      "                   'Derivatives',\n",
      "                   'InvestmentFund',\n",
      "                   'InvestmentStock']}\n"
     ]
    }
   ],
   "source": [
    "res = db.customers.aggregate([\n",
    "    {'$match': {'username': 'fmiller'}},\n",
    "    {'$project': {'_id': 0, 'name': 1, 'accounts': 1}},\n",
    "    {'$lookup': {\n",
    "        'from': 'transactions',\n",
    "        'localField': 'accounts',\n",
    "        'foreignField': 'account_id',\n",
    "        'as': 'transactions',\n",
    "        '$pipeline': [\n",
    "            {'$project': {'_id': 0, 'account_id': 1, 'amount': 1, 'date': 1}}\n",
    "        ]\n",
    "    }},\n",
    "    {'$project': {'products_type': '$products_type.products', 'name': 1}},\n",
    "    {'$addFields': {\n",
    "        'products_type': {\n",
    "            '$reduce': {\n",
    "                'input': '$products_type',\n",
    "                'initialValue': [],\n",
    "                'in': {'$setUnion': ['$$value', '$$this']}  # $$this is the current element in the input array\n",
    "            }\n",
    "        }\n",
    "    }},\n",
    "])\n",
    "\n",
    "for doc in res:\n",
    "    pprint.pprint(doc)"
   ]
  },
  {
   "cell_type": "code",
   "execution_count": 81,
   "metadata": {},
   "outputs": [],
   "source": [
    "fmiller_accounts = db.customers.find_one({\"username\": \"fmiller\"})[\"accounts\"]\n",
    "pipeline = [\n",
    "    {\"$match\": {\"account_id\": {\"$in\": fmiller_accounts}, \"transaction_code\": {\"$in\": [\"buy\", \"sell\"]}}},\n",
    "    {\"$group\": {\"_id\": \"$transaction_code\", \"total\": {\"$sum\": \"$total\"}}},\n",
    "    {\"$project\": {\"_id\": 0, \"buy_total\": {\"$cond\": [{\"$eq\": [\"$_id\", \"buy\"]}, \"$total\", 0]}, \n",
    "                             \"sell_total\": {\"$cond\": [{\"$eq\": [\"$_id\", \"sell\"]}, \"$total\", 0]}}},\n",
    "    {\"$group\": {\"_id\": None, \"buy_total\": {\"$sum\": \"$buy_total\"}, \"sell_total\": {\"$sum\": \"$sell_total\"}}},\n",
    "    {\"$project\": {\"_id\": 0, \"profit\": {\"$subtract\": [\"$buy_total\", \"$sell_total\"]}}}\n",
    "]\n",
    "result = db.transactions.aggregate(pipeline)\n",
    "for doc in result:\n",
    "    pprint.pprint(doc)"
   ]
  },
  {
   "attachments": {},
   "cell_type": "markdown",
   "metadata": {},
   "source": [
    "- concatArrays: https://www.mongodb.com/docs/manual/reference/operator/aggregation/concatArrays/"
   ]
  },
  {
   "cell_type": "code",
   "execution_count": 152,
   "metadata": {},
   "outputs": [
    {
     "name": "stdout",
     "output_type": "stream",
     "text": [
      "{'_id': 'intc', 'total': -542047.6980640853}\n",
      "{'_id': 'crm', 'total': 186904.20184876822}\n",
      "{'_id': 'csco', 'total': 688125.9080473727}\n",
      "{'_id': 'nvda', 'total': 834548.3059912496}\n",
      "{'_id': 'amd', 'total': 16521.06362185528}\n"
     ]
    }
   ],
   "source": [
    "res = db.customers.aggregate([\n",
    "    {'$match': {'username': 'fmiller'}},\n",
    "    {'$project': {'_id': 0, 'accounts': 1}},\n",
    "    {'$lookup': {\n",
    "        'from': 'transactions',\n",
    "        'localField': 'accounts',\n",
    "        'foreignField': 'account_id',\n",
    "        'as': 'transactions_info',\n",
    "    }},\n",
    "    {'$unwind': '$transactions_info'},\n",
    "    {'$project': {\n",
    "        'transactions': '$transactions_info.transactions'\n",
    "    }},\n",
    "    {'$unwind': '$transactions'},\n",
    "    {'$project': {\n",
    "        'symbol': '$transactions.symbol',\n",
    "        'total': {'$cond': [\n",
    "            {'$eq': ['$transactions.transaction_code', 'buy']}, \n",
    "            {'$multiply': [{'$toDouble': '$transactions.total'}, -1]}, \n",
    "            {'$toDouble': '$transactions.total'}\n",
    "            ]\n",
    "        },\n",
    "    }},\n",
    "    {'$group': {\n",
    "        '_id': '$symbol',\n",
    "        'total': {'$sum': '$total'}\n",
    "    }},\n",
    "])\n",
    "\n",
    "for doc in res:\n",
    "    pprint.pprint(doc)"
   ]
  },
  {
   "cell_type": "code",
   "execution_count": 164,
   "metadata": {},
   "outputs": [
    {
     "data": {
      "text/plain": [
       "['amd', 'crm', 'csco', 'intc', 'nvda']"
      ]
     },
     "execution_count": 164,
     "metadata": {},
     "output_type": "execute_result"
    }
   ],
   "source": [
    "# check if fmiller has those symbols\n",
    "account_list = db.customers.find({'username': 'fmiller'})[0]['accounts']\n",
    "db.transactions.distinct('transactions.symbol', {'account_id': {'$in': account_list}})"
   ]
  }
 ],
 "metadata": {
  "kernelspec": {
   "display_name": "bkms2_2023spring-X-rtsQES",
   "language": "python",
   "name": "python3"
  },
  "language_info": {
   "codemirror_mode": {
    "name": "ipython",
    "version": 3
   },
   "file_extension": ".py",
   "mimetype": "text/x-python",
   "name": "python",
   "nbconvert_exporter": "python",
   "pygments_lexer": "ipython3",
   "version": "3.10.4"
  },
  "orig_nbformat": 4
 },
 "nbformat": 4,
 "nbformat_minor": 2
}
